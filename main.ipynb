{
 "cells": [
  {
   "cell_type": "code",
   "execution_count": 1,
   "id": "b13e6596-c6b7-491f-8b54-e7fcae2a770c",
   "metadata": {},
   "outputs": [
    {
     "data": {
      "application/vnd.jupyter.widget-view+json": {
       "model_id": "d11c0bba47904e41839da1a38c4d2ab6",
       "version_major": 2,
       "version_minor": 0
      },
      "text/plain": [
       "VBox(children=(HTML(value='<center> <img\\nsrc=https://huggingface.co/front/assets/huggingface_logo-noborder.sv…"
      ]
     },
     "metadata": {},
     "output_type": "display_data"
    }
   ],
   "source": [
    "# from huggingface_hub import login\n",
    "# from datasets import Dataset, DatasetDict, load_dataset\n",
    "# import numpy as np\n",
    "# from huggingface_hub import login\n",
    "\n",
    "\n",
    "# login()\n",
    "\n",
    "# from datasets import load_dataset\n",
    "\n",
    "# # Load the dataset\n",
    "# dataset = load_dataset(\"SouthernCrossAI/Project_Gutenberg_Australia\")\n",
    "\n",
    "\n",
    "# # CONFIGURATION\n",
    "# chunk_size = 512\n",
    "# dataset_name = \"SouthernCrossAI/Gutenberg-Australia-Chunks-512\"\n",
    "# token_column = \"cl100k_base\"\n",
    "\n",
    "# # STEP 1: Load your dataset (if not already loaded)\n",
    "# # dataset_dict = load_dataset(\"your-username/original-dataset-name\")  # Optional\n",
    "# # OR, if already in memory:\n",
    "# # dataset_dict = DatasetDict({train=..., validation=..., test=...})\n",
    "\n",
    "# def chunk_token_column(split, column=token_column, chunk_size=chunk_size):\n",
    "#     print(f\"Processing split: {split}\")\n",
    "#     token_lists = dataset[split][column]\n",
    "#     flat = np.concatenate(token_lists)\n",
    "#     usable_len = (len(flat) // chunk_size) * chunk_size\n",
    "#     flat = flat[:usable_len]\n",
    "#     chunks = flat.reshape(-1, chunk_size)\n",
    "#     return Dataset.from_dict({\"input_ids\": chunks.tolist()})\n",
    "\n",
    "# # STEP 2: Process all splits\n",
    "# processed_dataset = DatasetDict({\n",
    "#     split: chunk_token_column(split)\n",
    "#     for split in dataset.keys()\n",
    "# })\n",
    "\n",
    "# # (Optional) Check shape\n",
    "# for split in processed_dataset:\n",
    "#     print(f\"{split} has {len(processed_dataset[split])} chunks of size {chunk_size}\")\n",
    "\n",
    "# # STEP 3: Save or push to Hugging Face Hub\n",
    "# # login(token=\"hf_...\")  # If not logged in\n",
    "# # processed_dataset.push_to_hub(dataset_name)\n",
    "\n",
    "# # (Optional) Save locally instead\n",
    "# # processed_dataset.save_to_disk(\"./processed_dataset_chunk512\")\n"
   ]
  },
  {
   "cell_type": "code",
   "execution_count": null,
   "id": "98d21bd7-51f6-40ab-b81d-1badd7a78fc5",
   "metadata": {},
   "outputs": [],
   "source": [
    "dataset\n",
    "\n",
    "test\n"
   ]
  },
  {
   "cell_type": "code",
   "execution_count": 1,
   "id": "437a3862-3b76-4cda-9e79-2ad2bb97ea58",
   "metadata": {},
   "outputs": [
    {
     "name": "stdout",
     "output_type": "stream",
     "text": [
      "\n",
      "Chunking 'train' split...\n",
      "Processing split with 286370 rows\n",
      "\n",
      "Chunking 'validation' split...\n",
      "Processing split with 53694 rows\n",
      "\n",
      "Chunking 'test' split...\n",
      "Processing split with 17899 rows\n",
      "train split → 122665 chunks of size 512\n",
      "validation split → 22870 chunks of size 512\n",
      "test split → 7665 chunks of size 512\n"
     ]
    },
    {
     "data": {
      "application/vnd.jupyter.widget-view+json": {
       "model_id": "db14d363a724463680de1dcddd724adb",
       "version_major": 2,
       "version_minor": 0
      },
      "text/plain": [
       "Uploading the dataset shards:   0%|          | 0/1 [00:00<?, ?it/s]"
      ]
     },
     "metadata": {},
     "output_type": "display_data"
    },
    {
     "data": {
      "application/vnd.jupyter.widget-view+json": {
       "model_id": "93b2c87e69de4c0ca4abeb61c341d4fd",
       "version_major": 2,
       "version_minor": 0
      },
      "text/plain": [
       "Creating parquet from Arrow format:   0%|          | 0/123 [00:00<?, ?ba/s]"
      ]
     },
     "metadata": {},
     "output_type": "display_data"
    },
    {
     "data": {
      "application/vnd.jupyter.widget-view+json": {
       "model_id": "e30db44af9184b25b0f6fa341ca99b25",
       "version_major": 2,
       "version_minor": 0
      },
      "text/plain": [
       "Uploading the dataset shards:   0%|          | 0/1 [00:00<?, ?it/s]"
      ]
     },
     "metadata": {},
     "output_type": "display_data"
    },
    {
     "data": {
      "application/vnd.jupyter.widget-view+json": {
       "model_id": "b62c0e03ff824dba97697371fc6bd6cc",
       "version_major": 2,
       "version_minor": 0
      },
      "text/plain": [
       "Creating parquet from Arrow format:   0%|          | 0/23 [00:00<?, ?ba/s]"
      ]
     },
     "metadata": {},
     "output_type": "display_data"
    },
    {
     "data": {
      "application/vnd.jupyter.widget-view+json": {
       "model_id": "a4394ee4e1b1460ca3a585b149f82431",
       "version_major": 2,
       "version_minor": 0
      },
      "text/plain": [
       "Uploading the dataset shards:   0%|          | 0/1 [00:00<?, ?it/s]"
      ]
     },
     "metadata": {},
     "output_type": "display_data"
    },
    {
     "data": {
      "application/vnd.jupyter.widget-view+json": {
       "model_id": "c146730c706c495b987c9d8805eccd3c",
       "version_major": 2,
       "version_minor": 0
      },
      "text/plain": [
       "Creating parquet from Arrow format:   0%|          | 0/8 [00:00<?, ?ba/s]"
      ]
     },
     "metadata": {},
     "output_type": "display_data"
    },
    {
     "data": {
      "application/vnd.jupyter.widget-view+json": {
       "model_id": "8d0b2b4a273e4bfaa9274345da867a42",
       "version_major": 2,
       "version_minor": 0
      },
      "text/plain": [
       "README.md:   0%|          | 0.00/508 [00:00<?, ?B/s]"
      ]
     },
     "metadata": {},
     "output_type": "display_data"
    },
    {
     "name": "stderr",
     "output_type": "stream",
     "text": [
      "No files have been modified since last commit. Skipping to prevent empty commit.\n"
     ]
    },
    {
     "data": {
      "text/plain": [
       "CommitInfo(commit_url='https://huggingface.co/datasets/SouthernCrossAI/Gutenberg-Australia-Chunks-512/commit/1f2ebcc9e2cc6f0d585789456f3a50fc9a46afbf', commit_message='Upload dataset', commit_description='', oid='1f2ebcc9e2cc6f0d585789456f3a50fc9a46afbf', pr_url=None, repo_url=RepoUrl('https://huggingface.co/datasets/SouthernCrossAI/Gutenberg-Australia-Chunks-512', endpoint='https://huggingface.co', repo_type='dataset', repo_id='SouthernCrossAI/Gutenberg-Australia-Chunks-512'), pr_revision=None, pr_num=None)"
      ]
     },
     "execution_count": 1,
     "metadata": {},
     "output_type": "execute_result"
    }
   ],
   "source": [
    "from huggingface_hub import login\n",
    "from datasets import Dataset, DatasetDict, load_dataset\n",
    "import numpy as np\n",
    "\n",
    "# STEP 0: Login to Hugging Face Hub\n",
    "# login()  # Only needed once per session or if not already authenticated\n",
    "\n",
    "# STEP 1: Load the original tokenized dataset\n",
    "dataset = load_dataset(\"SouthernCrossAI/Project_Gutenberg_Australia\")\n",
    "\n",
    "# CONFIGURATION\n",
    "chunk_size = 512\n",
    "token_column = \"cl100k_base\"\n",
    "output_dataset_name = \"SouthernCrossAI/Gutenberg-Australia-Chunks-512\"\n",
    "\n",
    "# STEP 2: Chunking function\n",
    "def chunk_token_column(split_data, chunk_size=512, token_column=\"cl100k_base\"):\n",
    "    print(f\"Processing split with {len(split_data)} rows\")\n",
    "    token_lists = split_data[token_column]\n",
    "    \n",
    "    # Efficient flattening\n",
    "    flat = np.concatenate(token_lists)\n",
    "    \n",
    "    # Trim to a multiple of chunk_size\n",
    "    usable_len = (len(flat) // chunk_size) * chunk_size\n",
    "    flat = flat[:usable_len]\n",
    "    \n",
    "    # Reshape into chunks\n",
    "    chunks = flat.reshape(-1, chunk_size)\n",
    "    \n",
    "    # Create Hugging Face dataset\n",
    "    return Dataset.from_dict({\"input_ids\": chunks.tolist()})\n",
    "\n",
    "# STEP 3: Apply to all splits\n",
    "processed_dataset = DatasetDict()\n",
    "for split in dataset:\n",
    "    print(f\"\\nChunking '{split}' split...\")\n",
    "    processed_dataset[split] = chunk_token_column(dataset[split], chunk_size, token_column)\n",
    "\n",
    "# STEP 4: (Optional) Print size info\n",
    "for split in processed_dataset:\n",
    "    print(f\"{split} split → {len(processed_dataset[split])} chunks of size {chunk_size}\")\n",
    "\n",
    "# STEP 5: Push to Hugging Face Hub\n",
    "processed_dataset.push_to_hub(output_dataset_name)\n"
   ]
  },
  {
   "cell_type": "code",
   "execution_count": 8,
   "id": "8f066636-6cb1-4b6d-a58d-55a63a43ecc3",
   "metadata": {},
   "outputs": [
    {
     "name": "stdout",
     "output_type": "stream",
     "text": [
      "512\n",
      "\"You are now acquainted with the trust I would impose upon you: swear to me, Moro, that you will make this explanation for me to John Darrow and to no other human being!  Swear it by the love you once said you bore me!\"  She sank back exhausted and awaited my response. For a moment I dared not trust myself to speak, yet something must be said.  As I noted her impatience I replied: \"Lona, you have lifted a great weight from my heart and placed a lesser one upon it. Forgive me that I have ever doubted you.  Even as you have been true to yourself, I swear by the love I still bear you to deliver your message to Darrow Sahib and to no other human being.  I shall commit your words at once to writing that nothing may be lost through the failure of my memory.\"We spoke in French, for I had discovered that this was her favourite speech.  There was no Oliphant to wait on us, and the inn servants were always about, so it was well to have a tongue they did not comprehend. The lady was distracted and sad.  When I inquired feelingly as to the general condition of her father's health she parried the question, and when I offered my services she disregarded my words.  It was in truth a doleful meal, while the faded Cristine sat like a sphinx staring into vacancy.  I spoke of England and of her friends, of Paris and Versailles, of Avignon where she had spent some years, and of the amenities of Florence, which she considered her home.  But it was like talking to a nunnery door.  I got nothing but \"It is indeed true, sir,\" or \"Do you say so, sir!\"  till my energy began to sink.  Madame perceived my discomfort, and, as she rose, murmured an apology.  \"Pray forgive my distraction, but I am poor company when my father is ill.  I have a foolish mind, easily frightened.  Nay, nay!\" she went on when I again offered help, \"the illness is trifling. It will pass off by to-morrow, or at the latest the next day.  Only I had looked forward to some ease at Santa Chiara, and the promise is belied.\"\"Oh! do not say so,\" replied his wretched parent. \"It is never too late. I know you are in Jonathan Wild's power\n"
     ]
    }
   ],
   "source": [
    "import tiktoken\n",
    "\n",
    "# Load cl100k_base tokenizer\n",
    "enc = tiktoken.get_encoding(\"cl100k_base\")\n",
    "\n",
    "# Encode some text\n",
    "# text = \"Hello, Joey!\"\n",
    "# tokens = enc.encode(text)\n",
    "# print(\"Tokens:\", tokens)\n",
    "tokens = [ 22336, 527, 1457, 73734, 449, 279, 7095, 358, 1053, 33330, 5304, 499, 25, 47177, 311, 757, 11, 8613, 78, 11, 430, 499, 690, 1304, 420, 16540, 369, 757, 311, 3842, 423, 6172, 323, 311, 912, 1023, 3823, 1694, 0, 220, 4593, 686, 433, 555, 279, 3021, 499, 3131, 1071, 499, 39786, 757, 9135, 220, 3005, 65330, 1203, 39019, 323, 79578, 856, 2077, 13, 1789, 264, 4545, 358, 76035, 539, 7095, 7182, 311, 6604, 11, 3686, 2555, 2011, 387, 1071, 13, 220, 1666, 358, 10555, 1077, 3242, 266, 1873, 358, 20592, 25, 330, 43, 6863, 11, 499, 617, 30831, 264, 2294, 4785, 505, 856, 4851, 323, 9277, 264, 32415, 832, 5304, 433, 13, 1789, 47530, 757, 430, 358, 617, 3596, 93762, 499, 13, 220, 7570, 439, 499, 617, 1027, 837, 311, 6261, 11, 358, 47177, 555, 279, 3021, 358, 2103, 11984, 499, 311, 6493, 701, 1984, 311, 423, 6172, 43059, 581, 323, 311, 912, 1023, 3823, 1694, 13, 220, 358, 4985, 5379, 701, 4339, 520, 3131, 311, 4477, 430, 4400, 1253, 387, 5675, 1555, 279, 8060, 315, 856, 5044, 1210, 1687, 12570, 304, 8753, 11, 369, 358, 1047, 11352, 430, 420, 574, 1077, 19214, 8982, 13, 220, 2684, 574, 912, 12225, 15619, 519, 311, 3868, 389, 603, 11, 323, 279, 6301, 42832, 1051, 2744, 922, 11, 779, 433, 574, 1664, 311, 617, 264, 25466, 814, 1550, 539, 58389, 13, 578, 17240, 574, 49804, 323, 12703, 13, 220, 3277, 358, 304, 3004, 8430, 398, 439, 311, 279, 4689, 3044, 315, 1077, 7126, 596, 2890, 1364, 1370, 4588, 279, 3488, 11, 323, 994, 358, 9076, 856, 3600, 1364, 43903, 21632, 856, 4339, 13, 220, 1102, 574, 304, 8206, 264, 656, 273, 1285, 15496, 11, 1418, 279, 54434, 35218, 483, 7731, 1093, 264, 42822, 20612, 37874, 1139, 62562, 13, 220, 358, 12570, 315, 9635, 323, 315, 1077, 4885, 11, 315, 12366, 323, 25187, 87455, 11, 315, 7671, 62799, 1405, 1364, 1047, 7543, 1063, 1667, 11, 323, 315, 279, 36483, 315, 48606, 11, 902, 1364, 6646, 1077, 2162, 13, 220, 2030, 433, 574, 1093, 7556, 311, 264, 308, 15278, 727, 6134, 13, 220, 358, 2751, 4400, 719, 330, 2181, 374, 13118, 837, 11, 28146, 1359, 477, 330, 5519, 499, 2019, 779, 11, 28146, 9135, 220, 12222, 856, 4907, 6137, 311, 19868, 13, 220, 84276, 26617, 856, 44776, 11, 323, 11, 439, 1364, 16392, 11, 87651, 3149, 459, 41258, 13, 220, 330, 3617, 352, 44491, 856, 54716, 11, 719, 358, 1097, 8009, 2883, 994, 856, 7126, 374, 5986, 13, 220, 358, 617, 264, 46337, 4059, 11, 6847, 60178, 13, 220, 99173, 11, 308, 352, 9135, 1364, 4024, 389, 994, 358, 1578, 9076, 1520, 11, 330, 1820, 17563, 374, 90203, 2785, 13, 1102, 690, 1522, 1022, 555, 311, 1474, 7924, 11, 477, 520, 279, 5652, 279, 1828, 1938, 13, 220, 8442, 358, 1047, 7111, 4741, 311, 1063, 14553, 520, 16376, 34382, 5169, 11, 323, 279, 11471, 374, 1689, 1142, 1210, 55005, 0, 656, 539, 2019, 779, 1359, 20592, 813, 289, 62837, 2748, 13, 330, 2181, 374, 2646, 2288, 3389, 13, 358, 1440, 499, 527, 304, 24150, 13944, 596, 2410 ]\n",
    "# tokens = [ 11, 369, 358, 5602, 1461, 3221, 499, 304, 279, 8993, 26, 323, 422, 3596, 279, 9354, 315, 43384, 574, 15480, 311, 1935, 3823, 1376, 11, 358, 2824, 789, 1461, 1243, 13, 38310, 548, 315, 1461, 11, 856, 4538, 0, 38310, 548, 315, 1461, 0, 1472, 1440, 539, 1148, 9077, 3852, 568, 374, 13171, 315, 13, 2893, 10978, 11, 323, 499, 690, 387, 6380, 13, 1472, 527, 3686, 264, 1716, 26, 323, 3582, 499, 617, 610, 43995, 505, 279, 1314, 1853, 11, 264, 16643, 1450, 1109, 701, 1866, 706, 6197, 499, 270, 768, 13, 3494, 11, 358, 3242, 20763, 315, 499, 11, 311, 701, 7491, 11, 313, 998, 4491, 13, 12404, 13, 52082, 52286, 701, 57790, 13, 1283, 374, 682, 45972, 11, 323, 690, 31805, 1124, 369, 701, 8009, 7126, 596, 25491, 313, 2000, 10705, 13, 3494, 311, 1461, 11, 358, 2019, 313, 1, 791, 13180, 14264, 20366, 11, 323, 2362, 5468, 10551, 13541, 1523, 279, 18507, 13, 220, 5414, 1866, 11103, 1047, 1027, 779, 653, 442, 8322, 459, 31017, 430, 568, 2643, 617, 1027, 3685, 311, 617, 1047, 6325, 5304, 279, 958, 1387, 315, 279, 76032, 11, 719, 568, 574, 539, 264, 893, 315, 6325, 13, 220, 3277, 279, 3177, 8636, 704, 315, 279, 13180, 499, 13541, 1523, 279, 18507, 13, 220, 1472, 1047, 311, 6958, 1523, 279, 18507, 5304, 1455, 5435, 13, 220, 25987, 1051, 912, 810, 1109, 8330, 396, 287, 1555, 264, 14512, 304, 264, 25675, 13, 220, 1472, 13468, 3823, 323, 90495, 3621, 826, 369, 2380, 5573, 1667, 323, 5899, 11, 323, 520, 279, 842, 315, 430, 892, 499, 7020, 4395, 323, 499, 7020, 4400, 11, 902, 374, 311, 1440, 4395, 13, 220, 1472, 6052, 313, 14738, 313, 998, 279, 11679, 42914, 315, 279, 1716, 13, 220, 1628, 304, 14392, 279, 2574, 430, 499, 6612, 499, 7020, 313, 9514, 3686, 1550, 539, 1440, 1268, 499, 7020, 1124, 13, 82255, 264, 3492, 690, 358, 2019, 11, 294, 10279, 11, 1304, 55295, 97551, 2697, 4059, 4228, 922, 430, 13, 18056, 1778, 264, 45295, 88, 2697, 364, 268, 23283, 454, 315, 264, 2035, 358, 2646, 574, 304, 9135, 313, 323, 11, 1418, 63143, 1077, 2107, 12, 19107, 11, 18083, 13, 51230, 819, 41323, 279, 2697, 14150, 323, 1202, 18067, 10194, 15485, 449, 264, 449, 4776, 34522, 13, 330, 40, 574, 364, 17847, 1908, 11, 7724, 11, 5042, 364, 878, 49, 28420, 9135, 1364, 5552, 279, 10672, 311, 1077, 30968, 13, 330, 2127, 6, 358, 709, 459, 6, 3309, 364, 261, 779, 313, 4345, 1093, 757, 11, 499, 1440, 13, 2876, 3130, 3403, 311, 19336, 264, 8415, 304, 11, 323, 364, 318, 274, 1468, 258, 6, 520, 279, 364, 3228, 315, 279, 2007, 439, 364, 1108, 459, 6, 42727, 439, 264, 656, 564, 0, 1472, 649, 9901, 55295, 9958, 11, 499, 1403, 11, 364, 68, 3287, 956, 1935, 832, 297, 6, 499, 4619, 297, 6, 94517, 1210, 2030, 420, 574, 89382, 555, 1648, 315, 264, 99958, 27748, 553, 369, 350, 14722, 323, 39611, 3919, 13, 42069, 6227, 430, 2965, 92707, 19089, 13, 364, 9642, 11, 430, 574, 757, 2288, 3238, 1115, 1047, 1027 ]\n",
    "tokens = [ 46639, 526, 433, 682, 1359, 1099, 26902, 23750, 3258, 11, 330, 2465, 15369, 5084, 311, 617, 83410, 757, 13, 1115, 4131, 315, 3515, 264, 3361, 49837, 369, 264, 5333, 13, 358, 1176, 65047, 28883, 264, 11102, 13272, 11, 1243, 74537, 11, 323, 1457, 31685, 2011, 6445, 264, 30077, 26, 323, 3686, 17354, 358, 2733, 439, 3582, 358, 1436, 6140, 264, 2763, 315, 3958, 15369, 369, 279, 25491, 315, 423, 34364, 14637, 5721, 13, 358, 649, 956, 1781, 1268, 433, 374, 279, 3828, 61191, 757, 779, 13, 358, 5895, 994, 358, 4985, 1518, 1077, 1578, 30, 2030, 1070, 596, 279, 3070, 11, 323, 279, 7126, 13, 3092, 39526, 0, 433, 1053, 387, 279, 38736, 596, 1866, 15369, 311, 617, 311, 1650, 26757, 14637, 5721, 364, 23881, 3502, 31412, 3238, 358, 8434, 956, 656, 433, 369, 279, 72021, 6548, 11, 477, 10437, 478, 23726, 11, 477, 294, 1673, 13744, 4579, 11, 477, 8369, 478, 4851, 430, 3596, 574, 13, 2360, 11, 28146, 11, 1070, 596, 912, 32961, 26, 279, 17983, 6420, 315, 279, 7126, 1053, 25760, 279, 5030, 13, 358, 1436, 539, 1781, 315, 433, 13, 358, 2643, 422, 568, 1051, 5710, 1210, 7189, 3358, 3371, 499, 1148, 596, 304, 856, 4059, 11, 2999, 13, 37958, 1359, 1071, 39475, 441, 30666, 13, 330, 2181, 596, 304, 856, 4059, 430, 499, 2351, 4737, 279, 3754, 358, 3077, 7263, 499, 304, 5115, 279, 5076, 1648, 13, 1472, 2351, 264, 4333, 315, 4491, 13, 2493, 91361, 596, 313, 40, 3358, 1650, 1461, 11291, 1606, 358, 617, 279, 34662, 311, 387, 264, 4333, 315, 813, 2288, 13, 1628, 499, 9167, 956, 55841, 313, 285, 430, 279, 6593, 4751, 30, 264, 5505, 832, 313, 327, 33839, 439, 358, 1288, 617, 3685, 13, 358, 3077, 2586, 323, 3309, 499, 430, 2500, 82407, 315, 813, 706, 1027, 32485, 13, 358, 3077, 439, 1695, 439, 3309, 499, 430, 11291, 596, 16066, 505, 279, 6372, 315, 264, 5623, 26, 323, 358, 9167, 956, 14000, 430, 499, 2351, 23268, 922, 420, 11, 323, 358, 9167, 956, 6755, 499, 2019, 499, 4265, 1093, 311, 733, 7833, 3201, 311, 1405, 11291, 374, 323, 656, 1148, 499, 649, 369, 1461, 13, 1628, 430, 596, 7041, 1148, 358, 1288, 617, 3685, 499, 311, 656, 11, 2999, 13, 37958, 11, 323, 499, 9167, 956, 2884, 433, 13, 2052, 279, 892, 358, 3077, 1027, 1618, 499, 3077, 1027, 29269, 6261, 313, 69849, 1148, 30, 3277, 358, 1511, 279, 3492, 364, 277, 4014, 6, 499, 7154, 29368, 313, 35734, 30, 3639, 617, 499, 311, 8850, 30, 358, 2846, 7556, 311, 499, 1457, 439, 893, 311, 893, 11, 2085, 28823, 1210, 39, 1411, 574, 832, 315, 1884, 3026, 8884, 6603, 4661, 16280, 51085, 323, 42276, 11, 1093, 26872, 449, 18012, 477, 5684, 82356, 13, 220, 1102, 574, 912, 39030, 367, 311, 2019, 568, 574, 5655, 304, 264, 2363, 439, 459, 304, 936, 332, 1245, 86294, 2643, 387, 5655, 304, 264, 67172, 477, 1063, 15234, 893, 5773, 1113, 6136, 315, 279, 21965, 1233, 26, 1193, 430, 279, 86294, 574, 33297, 1534, 323, 1550, 539, 1524, 14993, 13, 1283, 1053, 4498, 15187, 21737, 304, 279, 6278, 315, 264, 11914, 323, 733, 389, 5403, 26, 477, 568, 1053, 15187, 3240, 311, 1373, 71511, 449, 2294, 11939, 11, 30674, 449, 18570, 304, 279, 2363, 2085, 5905, 311, 21739, 304, 279, 3130, 13, 220, 18056, 539, 14614, 47101, 11, 568, 1053, 34738, 1555, 1023, 1274, 596, 13633, 12, 9949, 7119, 1023, 1274, 596, 2363, 939, 4372, 323, 32153, 1139, 1124, 11, 779, 311, 6604, 11, 1093, 264, 98553, 3070, 20457, 13, 1283, 1053, 5944, 264, 7895, 8931, 311, 1518, 264, 4333, 369, 459, 6596, 11, 323, 1243, 12571, 4376, 459, 6596, 449, 813, 2010, 304, 1063, 10535, 8286, 568, 2646, 7077, 311, 617, 3970, 1603, 13, 220, 1952, 682, 430, 3185, 315, 1461, 1070, 574, 264, 3460, 315, 4661, 51940, 40711, 2136, 13, 220, 5414, 7555, 11, 889, 1047, 2362, 31184, 59682, 315, 279, 1099, 2492, 315, 264, 3552, 434, 11, 7170, 1047, 2033, 990, 311, 656, 13, 14945, 50786, 439, 358, 574, 311, 29550, 303, 88, 441, 596, 5528, 11, 813, 10537, 574, 539, 16907, 11, 719, 4491, 13, 3296, 2453, 7910, 15746, 1461, 449, 11745, 1752, 2802, 323, 912, 2697, 13051, 439, 11, 35744, 264, 11071, 315, 539, 752, 3271, 389, 279, 2007, 11, 568, 7263, 279, 9072, 3345, 311, 433, 323, 62639, 32620, 719, 14297, 11, 779, 430, 279, 16174, 834, 83582, 3640, 1288, 4498, 389, 433, 13, 1666, 433, 574, 539, 264, 1633, 1664, 12, 99020, 9072, 11, 279, 7692, 574, 24779, 11, 5423, 994, 279, 15998, 574, 15107, 1234, 279, 14284, 315, 279, 1437, 318, 11, 323, 1633, 5246, 279, 5684, 5762, 5115, 264, 2697, 17817, 13, 5112, 29550, 303, 88, 441, 48135, 279, 5684, 1139, 264, 2678, 10361, 323, 3515, 5439, 330, 68090, 1, 389, 433, 11, 2231, 433, 304, 813, 18301, 2239, 13, 493, 10445, 2965, 3463, 53391, 311, 11937, 11, 364, 383, 596, 1120, 1093, 264, 6710, 315, 67329, 12320, 11, 14071, 11, 323, 422, 499, 17770, 904, 961, 315, 1461, 449, 701, 14654, 433, 1053, 733, 330, 8539, 1, 3238, 220, 2468, 279, 1890, 892, 1364, 4934, 311, 1935, 1461, 323, 11113, 813, 7013, 11, 19858, 813, 24087, 11, 3041, 1461, 264, 3118, 11, 3085, 1461, 264, 7172, 11, 10457, 1523, 389, 279, 4994, 315, 279, 4950, 449, 1461, 11, 4128, 813, 2010, 311, 1077, 17659, 323, 9020, 311, 264, 49639, 315, 813, 35665, 13, 220, 2468, 279, 1890, 892, 1364, 1101, 4934, 311, 2571, 279, 2363, 389, 279, 2007, 313, 32158, 1524, 5602, 279, 2316, 11, 25537, 596, 10637, 313, 266, 813, 2010, 323, 21899, 389, 813, 45713, 13, 3005, 2744, 1071, 430, 568, 28670, 15653, 449, 2288, 42299, 264, 31316, 6266, 1548, 1047, 15338, 1022, 279, 57871, 323, 9041, 704, 813, 49695, 13, 1666, 568, 11203, 389, 813, 1203, 11, 1344, 2234, 704, 389, 279, 18137, 11, 568, 7111, 2466, 1578, 11, 323, 893, 398, 13, 5414, 11013, 1047, 31467, 11, 323, 4529, 1202, 2362, 11, 4228, 5238, 13, 3861, 6612, 369, 1461, 1457, 279, 41463, 832, 11321, 369, 5606, 889, 72490, 304, 459, 19451, 315, 15673, 13, 3005, 55939, 927, 1461, 11, 323, 7111, 520, 1461, 449 ]\n",
    "print(len(tokens))\n",
    "print(enc.decode(tokens))\n",
    "\n"
   ]
  },
  {
   "cell_type": "code",
   "execution_count": null,
   "id": "b0b63377-f949-4957-b064-bbb600e30c72",
   "metadata": {},
   "outputs": [],
   "source": []
  }
 ],
 "metadata": {
  "kernelspec": {
   "display_name": "Python 3 (ipykernel)",
   "language": "python",
   "name": "python3"
  },
  "language_info": {
   "codemirror_mode": {
    "name": "ipython",
    "version": 3
   },
   "file_extension": ".py",
   "mimetype": "text/x-python",
   "name": "python",
   "nbconvert_exporter": "python",
   "pygments_lexer": "ipython3",
   "version": "3.12.3"
  }
 },
 "nbformat": 4,
 "nbformat_minor": 5
}
