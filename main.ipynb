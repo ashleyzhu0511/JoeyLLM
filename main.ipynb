{
 "cells": [
  {
   "cell_type": "code",
   "execution_count": 42,
   "id": "690923dc-2595-4866-aa43-6f10fc559290",
   "metadata": {},
   "outputs": [
    {
     "name": "stdout",
     "output_type": "stream",
     "text": [
      "Current directory: /home/matty/JoeyLLM\n",
      "Joeyllm\n"
     ]
    }
   ],
   "source": [
    "import hydra\n",
    "from omegaconf import DictConfig, OmegaConf\n",
    "import os\n",
    "import sys\n",
    "\n",
    "# Step 1: Set real working directory\n",
    "os.chdir(\"/home/matty/JoeyLLM\")\n",
    "print(\"Current directory:\", os.getcwd())\n",
    "\n",
    "@hydra.main(config_path=CONFIG_PATH, config_name=\"config\", version_base=None)\n",
    "def main(cfg):\n",
    "    print(cfg.model['type'])\n",
    "\n",
    "# Step 4: Call main\n",
    "main()\n"
   ]
  },
  {
   "cell_type": "code",
   "execution_count": 34,
   "id": "cea642ec-7730-407d-b8dc-974b836088d8",
   "metadata": {},
   "outputs": [
    {
     "name": "stdout",
     "output_type": "stream",
     "text": [
      "/home/matty/JoeyLLM\n"
     ]
    }
   ],
   "source": [
    "!pwd\n"
   ]
  },
  {
   "cell_type": "code",
   "execution_count": 24,
   "id": "638c2267-e7a9-4f38-afe6-38f3b104f77f",
   "metadata": {},
   "outputs": [
    {
     "data": {
      "text/plain": [
       "'/home/matty/JoeyLLM'"
      ]
     },
     "execution_count": 24,
     "metadata": {},
     "output_type": "execute_result"
    }
   ],
   "source": [
    "os.getcwd()\n"
   ]
  },
  {
   "cell_type": "code",
   "execution_count": null,
   "id": "55e489f2-00a8-4f95-8466-c7b14392bc7a",
   "metadata": {},
   "outputs": [],
   "source": []
  }
 ],
 "metadata": {
  "kernelspec": {
   "display_name": "Python 3 (ipykernel)",
   "language": "python",
   "name": "python3"
  },
  "language_info": {
   "codemirror_mode": {
    "name": "ipython",
    "version": 3
   },
   "file_extension": ".py",
   "mimetype": "text/x-python",
   "name": "python",
   "nbconvert_exporter": "python",
   "pygments_lexer": "ipython3",
   "version": "3.12.3"
  }
 },
 "nbformat": 4,
 "nbformat_minor": 5
}
